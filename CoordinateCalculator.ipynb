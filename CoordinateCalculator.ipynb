{
 "cells": [
  {
   "cell_type": "markdown",
   "id": "1b31be22",
   "metadata": {},
   "source": [
    "# Geographic Coordinate Converter\n",
    "\n",
    "Converts a geographic coordinate in DDMMSS format to DD"
   ]
  },
  {
   "cell_type": "markdown",
   "id": "220c42ad",
   "metadata": {},
   "source": [
    "Step 1 - Use the Python input function to prompt a user to enter a geographic coordinate in DDMMSS format (e.g., 391120)."
   ]
  },
  {
   "cell_type": "code",
   "execution_count": 5,
   "id": "16f5440b",
   "metadata": {},
   "outputs": [],
   "source": [
    "x = input(\"Please enter a coordinate in DDMMSS format: \")"
   ]
  },
  {
   "cell_type": "markdown",
   "id": "50c7e956",
   "metadata": {},
   "source": [
    "Step 2 - Determine the data type of x and print its value before moving forward."
   ]
  },
  {
   "cell_type": "code",
   "execution_count": 6,
   "id": "2a5030b7",
   "metadata": {},
   "outputs": [
    {
     "name": "stdout",
     "output_type": "stream",
     "text": [
      "<class 'str'>\n"
     ]
    }
   ],
   "source": [
    "print(type(x))"
   ]
  },
  {
   "cell_type": "markdown",
   "id": "6a9f529b",
   "metadata": {},
   "source": [
    "Convert seconds to minutes"
   ]
  },
  {
   "cell_type": "code",
   "execution_count": 7,
   "id": "98e7e8fb",
   "metadata": {},
   "outputs": [],
   "source": [
    "ss = int(x[-2:]) / 60"
   ]
  },
  {
   "cell_type": "markdown",
   "id": "a9a5c18b",
   "metadata": {},
   "source": [
    "Add the converted seconds to minutes and convert the result to degrees"
   ]
  },
  {
   "cell_type": "code",
   "execution_count": 8,
   "id": "8fe0a3a9",
   "metadata": {},
   "outputs": [],
   "source": [
    "mm = (int(x[-4:-2:]) + ss) / 60"
   ]
  },
  {
   "cell_type": "markdown",
   "id": "4669cb13",
   "metadata": {},
   "source": [
    "Add the converted minutes to degrees"
   ]
  },
  {
   "cell_type": "code",
   "execution_count": 9,
   "id": "a45ad426",
   "metadata": {},
   "outputs": [],
   "source": [
    "dd = int(x[:2]) + mm"
   ]
  },
  {
   "cell_type": "markdown",
   "id": "f0f829dd",
   "metadata": {},
   "source": [
    "Print the result along with a message, format the result so that it is rounded to 2 degrees."
   ]
  },
  {
   "cell_type": "code",
   "execution_count": 10,
   "id": "8fe59e10",
   "metadata": {},
   "outputs": [
    {
     "name": "stdout",
     "output_type": "stream",
     "text": [
      "Your coordinate in decimal degrees is 12.58\n"
     ]
    }
   ],
   "source": [
    "print('Your coordinate in decimal degrees is {0}'.format(str(round(dd,2))))"
   ]
  }
 ],
 "metadata": {
  "kernelspec": {
   "display_name": "Python 3 (ipykernel)",
   "language": "python",
   "name": "python3"
  },
  "language_info": {
   "codemirror_mode": {
    "name": "ipython",
    "version": 3
   },
   "file_extension": ".py",
   "mimetype": "text/x-python",
   "name": "python",
   "nbconvert_exporter": "python",
   "pygments_lexer": "ipython3",
   "version": "3.12.0"
  }
 },
 "nbformat": 4,
 "nbformat_minor": 5
}
